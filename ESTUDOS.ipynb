{
  "cells": [
    {
      "cell_type": "markdown",
      "metadata": {
        "id": "view-in-github",
        "colab_type": "text"
      },
      "source": [
        "<a href=\"https://colab.research.google.com/github/muriloamo/generatorpassword.py/blob/main/ESTUDOS.ipynb\" target=\"_parent\"><img src=\"https://colab.research.google.com/assets/colab-badge.svg\" alt=\"Open In Colab\"/></a>"
      ]
    },
    {
      "cell_type": "code",
      "execution_count": null,
      "metadata": {
        "colab": {
          "base_uri": "https://localhost:8080/"
        },
        "id": "dhrobZM4Ewf_",
        "outputId": "c9c6b74d-da96-495e-93d6-0828b33c5bc1"
      },
      "outputs": [
        {
          "name": "stdout",
          "output_type": "stream",
          "text": [
            "24\n"
          ]
        }
      ],
      "source": [
        "def fatorial(n):\n",
        "  fatorial = 1\n",
        "  while n > 1:\n",
        "    fatorial *= n\n",
        "    n -= 1\n",
        "  return fatorial\n",
        "\n",
        "fat_6 = fatorial(4)\n",
        "print(fat_6)"
      ]
    },
    {
      "cell_type": "code",
      "execution_count": 193,
      "metadata": {
        "colab": {
          "base_uri": "https://localhost:8080/"
        },
        "id": "p_5cK_3AG0B_",
        "outputId": "6d2d88aa-d57f-4442-8af8-432a3ac8c4d0"
      },
      "outputs": [
        {
          "output_type": "stream",
          "name": "stdout",
          "text": [
            "Senha 1: $t%0l&d!meaf@#pgzt\n",
            "Senha 2: G*7ki*lcegzf%vt@or\n",
            "Senha 3: *kxw@&mg%iltaujc\n"
          ]
        }
      ],
      "source": [
        "# @title CÓDIGO PYTHON PARA GERAR SENHAS DE 16 CARACTERES\n",
        "import random\n",
        "\n",
        "#DECLARAÇOES DE VARIÁVEIS OU ATRIBUTOS\n",
        "contador = 0\n",
        "forma_senha = []\n",
        "num = 9\n",
        "tamanho = 16\n",
        "\n",
        "# DECLARAÇÃO DE LISTAS\n",
        "letras = ['a','b','c','d','e','f','g','h','i','j','k','l','m','n','o','p','q','r','s','t','u','v','x','y','z','w']\n",
        "simbolos = ['!','@','#','$','%','&','*']\n",
        "\n",
        "# LOOPS PARA FORMAR A SENHA\n",
        "for i in letras:\n",
        "  for x in simbolos:\n",
        "    for y in range(num):\n",
        "      forma = i + x + str(y)\n",
        "      forma_senha.append(forma)\n",
        "\n",
        "while contador < 3:\n",
        "  for j in range(num):\n",
        "    j = random.choice(forma_senha)\n",
        "    a = j.split()\n",
        "    tudo = letras + simbolos + a\n",
        "    random.shuffle(tudo)\n",
        "    senha = \"\".join(random.sample(tudo, tamanho))\n",
        "  contador += 1\n",
        "  print(f'Senha {contador}: {senha.capitalize()}')"
      ]
    }
  ],
  "metadata": {
    "colab": {
      "provenance": [],
      "authorship_tag": "ABX9TyOJ1ld/murJ9crOGxWotMOA",
      "include_colab_link": true
    },
    "kernelspec": {
      "display_name": "Python 3",
      "name": "python3"
    },
    "language_info": {
      "name": "python"
    }
  },
  "nbformat": 4,
  "nbformat_minor": 0
}